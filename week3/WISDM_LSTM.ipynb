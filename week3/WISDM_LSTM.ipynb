{
  "cells": [
    {
      "cell_type": "markdown",
      "metadata": {
        "id": "view-in-github",
        "colab_type": "text"
      },
      "source": [
        "<a href=\"https://colab.research.google.com/github/Heoyuna0819/machine_learning/blob/main/WISDM_LSTM.ipynb\" target=\"_parent\"><img src=\"https://colab.research.google.com/assets/colab-badge.svg\" alt=\"Open In Colab\"/></a>"
      ]
    },
    {
      "cell_type": "code",
      "execution_count": null,
      "metadata": {
        "id": "gCEz9wCS8Wd4"
      },
      "outputs": [],
      "source": [
        "import numpy as np\n",
        "import pandas as pd\n",
        "import tensorflow as tf\n",
        "from tensorflow import keras\n",
        "from sklearn.preprocessing import LabelEncoder, OneHotEncoder, RobustScaler\n",
        "from sklearn.model_selection import train_test_split\n",
        "from sklearn.metrics import classification_report, confusion_matrix\n",
        "import matplotlib.pyplot as plt\n",
        "import seaborn as sns\n",
        "\n",
        "np.random.seed(42)\n",
        "tf.random.set_seed(42)"
      ]
    },
    {
      "cell_type": "code",
      "execution_count": null,
      "metadata": {
        "id": "Q5KPeBGZ81U6"
      },
      "outputs": [],
      "source": [
        "#1. Load & Clean\n",
        "names = [\"user_id\", \"activity\", \"timestamp\", \"x_axis\", \"y_axis\", \"z_axis\", \"NaN\"]\n",
        "df = pd.read_csv(\"/content/drive/MyDrive/WISDM_ar_v1.1_raw.txt\",\n",
        "                 header=None, names=names, comment=';')\n",
        "\n",
        "df = df.drop(columns=[\"NaN\"])\n",
        "# 문자 제거 후 숫자로 변환\n",
        "for col in [\"x_axis\", \"y_axis\", \"z_axis\"]:\n",
        "    df[col] = pd.to_numeric(df[col].astype(str).str.replace(\";\", \"\", regex=True), errors=\"coerce\")\n",
        "df = df.dropna().reset_index(drop=True)"
      ]
    },
    {
      "cell_type": "code",
      "execution_count": null,
      "metadata": {
        "id": "4PQK8k5_9HgB"
      },
      "outputs": [],
      "source": [
        "#2. Train/Test Split (user 기준)\n",
        "df_train = df[df[\"user_id\"] <= 20].copy()\n",
        "df_test  = df[(df[\"user_id\"] > 20) & (df[\"user_id\"] <= 36)].copy()"
      ]
    },
    {
      "cell_type": "code",
      "execution_count": null,
      "metadata": {
        "id": "p58nGDSP9Lqj"
      },
      "outputs": [],
      "source": [
        "#3. Scaling\n",
        "scale_cols = [\"x_axis\", \"y_axis\", \"z_axis\"]\n",
        "scaler = RobustScaler().fit(df_train[scale_cols])\n",
        "df_train.loc[:, scale_cols] = scaler.transform(df_train[scale_cols])\n",
        "df_test.loc[:, scale_cols]  = scaler.transform(df_test[scale_cols])\n"
      ]
    },
    {
      "cell_type": "code",
      "execution_count": null,
      "metadata": {
        "id": "ZVIggj279N1B"
      },
      "outputs": [],
      "source": [
        "#4. Label Encoding\n",
        "le = LabelEncoder()\n",
        "df_train[\"activity_enc\"] = le.fit_transform(df_train[\"activity\"])\n",
        "df_test[\"activity_enc\"]  = le.transform(df_test[\"activity\"])\n"
      ]
    },
    {
      "cell_type": "code",
      "execution_count": null,
      "metadata": {
        "id": "qQellF9X9P6P"
      },
      "outputs": [],
      "source": [
        "#5. Sliding Window\n",
        "def create_windows(X_df, y_ser, time_steps=200, step=40):\n",
        "    X, y = [], []\n",
        "    for i in range(0, len(X_df) - time_steps, step):\n",
        "        block = X_df.iloc[i:i+time_steps].values\n",
        "        labels = y_ser.iloc[i:i+time_steps].values\n",
        "        # 최빈값 라벨\n",
        "        vals, cnts = np.unique(labels, return_counts=True)\n",
        "        major = vals[np.argmax(cnts)]\n",
        "        X.append(block)\n",
        "        y.append(major)\n",
        "    return np.asarray(X), np.asarray(y).reshape(-1, 1)\n",
        "\n",
        "\n",
        "TIME_STEPS, STEP = 128, 20\n",
        "X_train_all, y_train_all = create_windows(df_train[scale_cols], df_train[\"activity_enc\"],\n",
        "                                          time_steps=TIME_STEPS, step=STEP)\n",
        "X_test, y_test = create_windows(df_test[scale_cols], df_test[\"activity_enc\"],\n",
        "                                time_steps=TIME_STEPS, step=STEP)"
      ]
    },
    {
      "cell_type": "code",
      "execution_count": null,
      "metadata": {
        "id": "b6Fr_HGD9Te5"
      },
      "outputs": [],
      "source": [
        "# 6. Train/Valid Split\n",
        "y_flat = y_train_all.flatten()\n",
        "X_tr, X_val, y_tr, y_val = train_test_split(\n",
        "    X_train_all, y_flat, test_size=0.2, random_state=42, stratify=y_flat\n",
        ")"
      ]
    },
    {
      "cell_type": "code",
      "execution_count": null,
      "metadata": {
        "colab": {
          "base_uri": "https://localhost:8080/"
        },
        "id": "wP3rEsZc9XAM",
        "outputId": "c5f07277-9c72-445e-b7e2-5e1a1f812b87"
      },
      "outputs": [
        {
          "output_type": "stream",
          "name": "stdout",
          "text": [
            "Input shape: (128, 3) Classes: 6 ['Downstairs' 'Jogging' 'Sitting' 'Standing' 'Upstairs' 'Walking']\n"
          ]
        }
      ],
      "source": [
        "# 7. One-Hot Encoding\n",
        "enc = OneHotEncoder(sparse_output=False)\n",
        "y_tr_oh  = enc.fit_transform(y_tr.reshape(-1, 1))\n",
        "y_val_oh = enc.transform(y_val.reshape(-1, 1))\n",
        "y_test_oh = enc.transform(y_test.reshape(-1, 1))\n",
        "\n",
        "n_timesteps, n_features = X_tr.shape[1], X_tr.shape[2]\n",
        "n_classes = y_tr_oh.shape[1]\n",
        "print(\"Input shape:\", (n_timesteps, n_features), \"Classes:\", n_classes, le.classes_)\n"
      ]
    },
    {
      "cell_type": "code",
      "execution_count": null,
      "metadata": {
        "colab": {
          "base_uri": "https://localhost:8080/",
          "height": 347
        },
        "id": "jRKS89A09a0a",
        "outputId": "87372f85-dc98-4d25-e337-524c04591462"
      },
      "outputs": [
        {
          "output_type": "display_data",
          "data": {
            "text/plain": [
              "\u001b[1mModel: \"functional_1\"\u001b[0m\n"
            ],
            "text/html": [
              "<pre style=\"white-space:pre;overflow-x:auto;line-height:normal;font-family:Menlo,'DejaVu Sans Mono',consolas,'Courier New',monospace\"><span style=\"font-weight: bold\">Model: \"functional_1\"</span>\n",
              "</pre>\n"
            ]
          },
          "metadata": {}
        },
        {
          "output_type": "display_data",
          "data": {
            "text/plain": [
              "┏━━━━━━━━━━━━━━━━━━━━━━━━━━━━━━━━━┳━━━━━━━━━━━━━━━━━━━━━━━━┳━━━━━━━━━━━━━━━┓\n",
              "┃\u001b[1m \u001b[0m\u001b[1mLayer (type)                   \u001b[0m\u001b[1m \u001b[0m┃\u001b[1m \u001b[0m\u001b[1mOutput Shape          \u001b[0m\u001b[1m \u001b[0m┃\u001b[1m \u001b[0m\u001b[1m      Param #\u001b[0m\u001b[1m \u001b[0m┃\n",
              "┡━━━━━━━━━━━━━━━━━━━━━━━━━━━━━━━━━╇━━━━━━━━━━━━━━━━━━━━━━━━╇━━━━━━━━━━━━━━━┩\n",
              "│ input_layer_1 (\u001b[38;5;33mInputLayer\u001b[0m)      │ (\u001b[38;5;45mNone\u001b[0m, \u001b[38;5;34m128\u001b[0m, \u001b[38;5;34m3\u001b[0m)         │             \u001b[38;5;34m0\u001b[0m │\n",
              "├─────────────────────────────────┼────────────────────────┼───────────────┤\n",
              "│ bidirectional_2 (\u001b[38;5;33mBidirectional\u001b[0m) │ (\u001b[38;5;45mNone\u001b[0m, \u001b[38;5;34m128\u001b[0m)            │        \u001b[38;5;34m34,816\u001b[0m │\n",
              "├─────────────────────────────────┼────────────────────────┼───────────────┤\n",
              "│ batch_normalization_1           │ (\u001b[38;5;45mNone\u001b[0m, \u001b[38;5;34m128\u001b[0m)            │           \u001b[38;5;34m512\u001b[0m │\n",
              "│ (\u001b[38;5;33mBatchNormalization\u001b[0m)            │                        │               │\n",
              "├─────────────────────────────────┼────────────────────────┼───────────────┤\n",
              "│ dense_2 (\u001b[38;5;33mDense\u001b[0m)                 │ (\u001b[38;5;45mNone\u001b[0m, \u001b[38;5;34m64\u001b[0m)             │         \u001b[38;5;34m8,256\u001b[0m │\n",
              "├─────────────────────────────────┼────────────────────────┼───────────────┤\n",
              "│ dropout_1 (\u001b[38;5;33mDropout\u001b[0m)             │ (\u001b[38;5;45mNone\u001b[0m, \u001b[38;5;34m64\u001b[0m)             │             \u001b[38;5;34m0\u001b[0m │\n",
              "├─────────────────────────────────┼────────────────────────┼───────────────┤\n",
              "│ dense_3 (\u001b[38;5;33mDense\u001b[0m)                 │ (\u001b[38;5;45mNone\u001b[0m, \u001b[38;5;34m6\u001b[0m)              │           \u001b[38;5;34m390\u001b[0m │\n",
              "└─────────────────────────────────┴────────────────────────┴───────────────┘\n"
            ],
            "text/html": [
              "<pre style=\"white-space:pre;overflow-x:auto;line-height:normal;font-family:Menlo,'DejaVu Sans Mono',consolas,'Courier New',monospace\">┏━━━━━━━━━━━━━━━━━━━━━━━━━━━━━━━━━┳━━━━━━━━━━━━━━━━━━━━━━━━┳━━━━━━━━━━━━━━━┓\n",
              "┃<span style=\"font-weight: bold\"> Layer (type)                    </span>┃<span style=\"font-weight: bold\"> Output Shape           </span>┃<span style=\"font-weight: bold\">       Param # </span>┃\n",
              "┡━━━━━━━━━━━━━━━━━━━━━━━━━━━━━━━━━╇━━━━━━━━━━━━━━━━━━━━━━━━╇━━━━━━━━━━━━━━━┩\n",
              "│ input_layer_1 (<span style=\"color: #0087ff; text-decoration-color: #0087ff\">InputLayer</span>)      │ (<span style=\"color: #00d7ff; text-decoration-color: #00d7ff\">None</span>, <span style=\"color: #00af00; text-decoration-color: #00af00\">128</span>, <span style=\"color: #00af00; text-decoration-color: #00af00\">3</span>)         │             <span style=\"color: #00af00; text-decoration-color: #00af00\">0</span> │\n",
              "├─────────────────────────────────┼────────────────────────┼───────────────┤\n",
              "│ bidirectional_2 (<span style=\"color: #0087ff; text-decoration-color: #0087ff\">Bidirectional</span>) │ (<span style=\"color: #00d7ff; text-decoration-color: #00d7ff\">None</span>, <span style=\"color: #00af00; text-decoration-color: #00af00\">128</span>)            │        <span style=\"color: #00af00; text-decoration-color: #00af00\">34,816</span> │\n",
              "├─────────────────────────────────┼────────────────────────┼───────────────┤\n",
              "│ batch_normalization_1           │ (<span style=\"color: #00d7ff; text-decoration-color: #00d7ff\">None</span>, <span style=\"color: #00af00; text-decoration-color: #00af00\">128</span>)            │           <span style=\"color: #00af00; text-decoration-color: #00af00\">512</span> │\n",
              "│ (<span style=\"color: #0087ff; text-decoration-color: #0087ff\">BatchNormalization</span>)            │                        │               │\n",
              "├─────────────────────────────────┼────────────────────────┼───────────────┤\n",
              "│ dense_2 (<span style=\"color: #0087ff; text-decoration-color: #0087ff\">Dense</span>)                 │ (<span style=\"color: #00d7ff; text-decoration-color: #00d7ff\">None</span>, <span style=\"color: #00af00; text-decoration-color: #00af00\">64</span>)             │         <span style=\"color: #00af00; text-decoration-color: #00af00\">8,256</span> │\n",
              "├─────────────────────────────────┼────────────────────────┼───────────────┤\n",
              "│ dropout_1 (<span style=\"color: #0087ff; text-decoration-color: #0087ff\">Dropout</span>)             │ (<span style=\"color: #00d7ff; text-decoration-color: #00d7ff\">None</span>, <span style=\"color: #00af00; text-decoration-color: #00af00\">64</span>)             │             <span style=\"color: #00af00; text-decoration-color: #00af00\">0</span> │\n",
              "├─────────────────────────────────┼────────────────────────┼───────────────┤\n",
              "│ dense_3 (<span style=\"color: #0087ff; text-decoration-color: #0087ff\">Dense</span>)                 │ (<span style=\"color: #00d7ff; text-decoration-color: #00d7ff\">None</span>, <span style=\"color: #00af00; text-decoration-color: #00af00\">6</span>)              │           <span style=\"color: #00af00; text-decoration-color: #00af00\">390</span> │\n",
              "└─────────────────────────────────┴────────────────────────┴───────────────┘\n",
              "</pre>\n"
            ]
          },
          "metadata": {}
        },
        {
          "output_type": "display_data",
          "data": {
            "text/plain": [
              "\u001b[1m Total params: \u001b[0m\u001b[38;5;34m43,974\u001b[0m (171.77 KB)\n"
            ],
            "text/html": [
              "<pre style=\"white-space:pre;overflow-x:auto;line-height:normal;font-family:Menlo,'DejaVu Sans Mono',consolas,'Courier New',monospace\"><span style=\"font-weight: bold\"> Total params: </span><span style=\"color: #00af00; text-decoration-color: #00af00\">43,974</span> (171.77 KB)\n",
              "</pre>\n"
            ]
          },
          "metadata": {}
        },
        {
          "output_type": "display_data",
          "data": {
            "text/plain": [
              "\u001b[1m Trainable params: \u001b[0m\u001b[38;5;34m43,718\u001b[0m (170.77 KB)\n"
            ],
            "text/html": [
              "<pre style=\"white-space:pre;overflow-x:auto;line-height:normal;font-family:Menlo,'DejaVu Sans Mono',consolas,'Courier New',monospace\"><span style=\"font-weight: bold\"> Trainable params: </span><span style=\"color: #00af00; text-decoration-color: #00af00\">43,718</span> (170.77 KB)\n",
              "</pre>\n"
            ]
          },
          "metadata": {}
        },
        {
          "output_type": "display_data",
          "data": {
            "text/plain": [
              "\u001b[1m Non-trainable params: \u001b[0m\u001b[38;5;34m256\u001b[0m (1.00 KB)\n"
            ],
            "text/html": [
              "<pre style=\"white-space:pre;overflow-x:auto;line-height:normal;font-family:Menlo,'DejaVu Sans Mono',consolas,'Courier New',monospace\"><span style=\"font-weight: bold\"> Non-trainable params: </span><span style=\"color: #00af00; text-decoration-color: #00af00\">256</span> (1.00 KB)\n",
              "</pre>\n"
            ]
          },
          "metadata": {}
        }
      ],
      "source": [
        "# 8. LSTM 모델\n",
        "inputs = keras.Input(shape=(n_timesteps, n_features))\n",
        "x = keras.layers.Bidirectional(\n",
        "        keras.layers.LSTM(64, return_sequences=False, activation=\"tanh\",\n",
        "                          recurrent_dropout=0.1)\n",
        "    )(inputs)\n",
        "x = keras.layers.BatchNormalization()(x)\n",
        "x = keras.layers.Dense(64, activation=\"relu\")(x)\n",
        "x = keras.layers.Dropout(0.3)(x)\n",
        "outputs = keras.layers.Dense(n_classes, activation=\"softmax\")(x)\n",
        "\n",
        "optimizer = keras.optimizers.Adam(learning_rate=5e-4, clipnorm=1.0)\n",
        "\n",
        "model = keras.Model(inputs, outputs)\n",
        "model.compile(optimizer=optimizer,\n",
        "              loss=\"categorical_crossentropy\",\n",
        "              metrics=[\"accuracy\"])\n",
        "model.summary()\n"
      ]
    },
    {
      "cell_type": "code",
      "execution_count": null,
      "metadata": {
        "id": "D5mOGwia9i8j"
      },
      "outputs": [],
      "source": [
        "# 9. Callbacks\n",
        "early = keras.callbacks.EarlyStopping(patience=10, restore_best_weights=True, monitor=\"val_accuracy\")\n",
        "rlr   = keras.callbacks.ReduceLROnPlateau(patience=5, factor=0.5, min_lr=1e-5, monitor=\"val_loss\")"
      ]
    },
    {
      "cell_type": "code",
      "execution_count": null,
      "metadata": {
        "colab": {
          "base_uri": "https://localhost:8080/"
        },
        "id": "LTC6uBAS9lQ5",
        "outputId": "daa405e6-8225-416a-e9f9-36e46ad634b7"
      },
      "outputs": [
        {
          "output_type": "stream",
          "name": "stdout",
          "text": [
            "Epoch 1/50\n",
            "\u001b[1m779/779\u001b[0m \u001b[32m━━━━━━━━━━━━━━━━━━━━\u001b[0m\u001b[37m\u001b[0m \u001b[1m190s\u001b[0m 236ms/step - accuracy: 0.6562 - loss: 1.0164 - val_accuracy: 0.8182 - val_loss: 0.5090 - learning_rate: 5.0000e-04\n",
            "Epoch 2/50\n",
            "\u001b[1m779/779\u001b[0m \u001b[32m━━━━━━━━━━━━━━━━━━━━\u001b[0m\u001b[37m\u001b[0m \u001b[1m196s\u001b[0m 229ms/step - accuracy: 0.8153 - loss: 0.5134 - val_accuracy: 0.8649 - val_loss: 0.3444 - learning_rate: 5.0000e-04\n",
            "Epoch 3/50\n",
            "\u001b[1m779/779\u001b[0m \u001b[32m━━━━━━━━━━━━━━━━━━━━\u001b[0m\u001b[37m\u001b[0m \u001b[1m206s\u001b[0m 235ms/step - accuracy: 0.8514 - loss: 0.3991 - val_accuracy: 0.8708 - val_loss: 0.3467 - learning_rate: 5.0000e-04\n",
            "Epoch 4/50\n",
            "\u001b[1m779/779\u001b[0m \u001b[32m━━━━━━━━━━━━━━━━━━━━\u001b[0m\u001b[37m\u001b[0m \u001b[1m199s\u001b[0m 231ms/step - accuracy: 0.8744 - loss: 0.3288 - val_accuracy: 0.8975 - val_loss: 0.2713 - learning_rate: 5.0000e-04\n",
            "Epoch 5/50\n",
            "\u001b[1m779/779\u001b[0m \u001b[32m━━━━━━━━━━━━━━━━━━━━\u001b[0m\u001b[37m\u001b[0m \u001b[1m199s\u001b[0m 227ms/step - accuracy: 0.8879 - loss: 0.2950 - val_accuracy: 0.9153 - val_loss: 0.2175 - learning_rate: 5.0000e-04\n",
            "Epoch 6/50\n",
            "\u001b[1m779/779\u001b[0m \u001b[32m━━━━━━━━━━━━━━━━━━━━\u001b[0m\u001b[37m\u001b[0m \u001b[1m205s\u001b[0m 231ms/step - accuracy: 0.9064 - loss: 0.2508 - val_accuracy: 0.9263 - val_loss: 0.2127 - learning_rate: 5.0000e-04\n",
            "Epoch 7/50\n",
            "\u001b[1m779/779\u001b[0m \u001b[32m━━━━━━━━━━━━━━━━━━━━\u001b[0m\u001b[37m\u001b[0m \u001b[1m197s\u001b[0m 224ms/step - accuracy: 0.9182 - loss: 0.2252 - val_accuracy: 0.9416 - val_loss: 0.1619 - learning_rate: 5.0000e-04\n",
            "Epoch 8/50\n",
            "\u001b[1m779/779\u001b[0m \u001b[32m━━━━━━━━━━━━━━━━━━━━\u001b[0m\u001b[37m\u001b[0m \u001b[1m179s\u001b[0m 229ms/step - accuracy: 0.9345 - loss: 0.1902 - val_accuracy: 0.9514 - val_loss: 0.1379 - learning_rate: 5.0000e-04\n",
            "Epoch 9/50\n",
            "\u001b[1m779/779\u001b[0m \u001b[32m━━━━━━━━━━━━━━━━━━━━\u001b[0m\u001b[37m\u001b[0m \u001b[1m201s\u001b[0m 229ms/step - accuracy: 0.9444 - loss: 0.1635 - val_accuracy: 0.9596 - val_loss: 0.1193 - learning_rate: 5.0000e-04\n",
            "Epoch 10/50\n",
            "\u001b[1m779/779\u001b[0m \u001b[32m━━━━━━━━━━━━━━━━━━━━\u001b[0m\u001b[37m\u001b[0m \u001b[1m202s\u001b[0m 229ms/step - accuracy: 0.9488 - loss: 0.1514 - val_accuracy: 0.9618 - val_loss: 0.1178 - learning_rate: 5.0000e-04\n",
            "Epoch 11/50\n",
            "\u001b[1m779/779\u001b[0m \u001b[32m━━━━━━━━━━━━━━━━━━━━\u001b[0m\u001b[37m\u001b[0m \u001b[1m179s\u001b[0m 230ms/step - accuracy: 0.9557 - loss: 0.1350 - val_accuracy: 0.9695 - val_loss: 0.0906 - learning_rate: 5.0000e-04\n",
            "Epoch 12/50\n",
            "\u001b[1m779/779\u001b[0m \u001b[32m━━━━━━━━━━━━━━━━━━━━\u001b[0m\u001b[37m\u001b[0m \u001b[1m176s\u001b[0m 226ms/step - accuracy: 0.9615 - loss: 0.1201 - val_accuracy: 0.9687 - val_loss: 0.0936 - learning_rate: 5.0000e-04\n",
            "Epoch 13/50\n",
            "\u001b[1m779/779\u001b[0m \u001b[32m━━━━━━━━━━━━━━━━━━━━\u001b[0m\u001b[37m\u001b[0m \u001b[1m206s\u001b[0m 231ms/step - accuracy: 0.9630 - loss: 0.1110 - val_accuracy: 0.9703 - val_loss: 0.0899 - learning_rate: 5.0000e-04\n",
            "Epoch 14/50\n",
            "\u001b[1m779/779\u001b[0m \u001b[32m━━━━━━━━━━━━━━━━━━━━\u001b[0m\u001b[37m\u001b[0m \u001b[1m180s\u001b[0m 232ms/step - accuracy: 0.9650 - loss: 0.1085 - val_accuracy: 0.9719 - val_loss: 0.0866 - learning_rate: 5.0000e-04\n",
            "Epoch 15/50\n",
            "\u001b[1m779/779\u001b[0m \u001b[32m━━━━━━━━━━━━━━━━━━━━\u001b[0m\u001b[37m\u001b[0m \u001b[1m197s\u001b[0m 226ms/step - accuracy: 0.9693 - loss: 0.0948 - val_accuracy: 0.9703 - val_loss: 0.0874 - learning_rate: 5.0000e-04\n",
            "Epoch 16/50\n",
            "\u001b[1m779/779\u001b[0m \u001b[32m━━━━━━━━━━━━━━━━━━━━\u001b[0m\u001b[37m\u001b[0m \u001b[1m177s\u001b[0m 227ms/step - accuracy: 0.9697 - loss: 0.0975 - val_accuracy: 0.9726 - val_loss: 0.0813 - learning_rate: 5.0000e-04\n",
            "Epoch 17/50\n",
            "\u001b[1m779/779\u001b[0m \u001b[32m━━━━━━━━━━━━━━━━━━━━\u001b[0m\u001b[37m\u001b[0m \u001b[1m175s\u001b[0m 224ms/step - accuracy: 0.9731 - loss: 0.0876 - val_accuracy: 0.9780 - val_loss: 0.0667 - learning_rate: 5.0000e-04\n",
            "Epoch 18/50\n",
            "\u001b[1m779/779\u001b[0m \u001b[32m━━━━━━━━━━━━━━━━━━━━\u001b[0m\u001b[37m\u001b[0m \u001b[1m202s\u001b[0m 224ms/step - accuracy: 0.9733 - loss: 0.0877 - val_accuracy: 0.9745 - val_loss: 0.0813 - learning_rate: 5.0000e-04\n",
            "Epoch 19/50\n",
            "\u001b[1m779/779\u001b[0m \u001b[32m━━━━━━━━━━━━━━━━━━━━\u001b[0m\u001b[37m\u001b[0m \u001b[1m177s\u001b[0m 227ms/step - accuracy: 0.9745 - loss: 0.0848 - val_accuracy: 0.9815 - val_loss: 0.0597 - learning_rate: 5.0000e-04\n",
            "Epoch 20/50\n",
            "\u001b[1m779/779\u001b[0m \u001b[32m━━━━━━━━━━━━━━━━━━━━\u001b[0m\u001b[37m\u001b[0m \u001b[1m202s\u001b[0m 228ms/step - accuracy: 0.9771 - loss: 0.0733 - val_accuracy: 0.9772 - val_loss: 0.0658 - learning_rate: 5.0000e-04\n",
            "Epoch 21/50\n",
            "\u001b[1m779/779\u001b[0m \u001b[32m━━━━━━━━━━━━━━━━━━━━\u001b[0m\u001b[37m\u001b[0m \u001b[1m199s\u001b[0m 223ms/step - accuracy: 0.9798 - loss: 0.0676 - val_accuracy: 0.9849 - val_loss: 0.0473 - learning_rate: 5.0000e-04\n",
            "Epoch 22/50\n",
            "\u001b[1m779/779\u001b[0m \u001b[32m━━━━━━━━━━━━━━━━━━━━\u001b[0m\u001b[37m\u001b[0m \u001b[1m177s\u001b[0m 228ms/step - accuracy: 0.9784 - loss: 0.0615 - val_accuracy: 0.9840 - val_loss: 0.0512 - learning_rate: 5.0000e-04\n",
            "Epoch 23/50\n",
            "\u001b[1m779/779\u001b[0m \u001b[32m━━━━━━━━━━━━━━━━━━━━\u001b[0m\u001b[37m\u001b[0m \u001b[1m202s\u001b[0m 228ms/step - accuracy: 0.9805 - loss: 0.0631 - val_accuracy: 0.9832 - val_loss: 0.0481 - learning_rate: 5.0000e-04\n",
            "Epoch 24/50\n",
            "\u001b[1m779/779\u001b[0m \u001b[32m━━━━━━━━━━━━━━━━━━━━\u001b[0m\u001b[37m\u001b[0m \u001b[1m199s\u001b[0m 224ms/step - accuracy: 0.9836 - loss: 0.0581 - val_accuracy: 0.9809 - val_loss: 0.0559 - learning_rate: 5.0000e-04\n",
            "Epoch 25/50\n",
            "\u001b[1m779/779\u001b[0m \u001b[32m━━━━━━━━━━━━━━━━━━━━\u001b[0m\u001b[37m\u001b[0m \u001b[1m205s\u001b[0m 228ms/step - accuracy: 0.9809 - loss: 0.0596 - val_accuracy: 0.9838 - val_loss: 0.0525 - learning_rate: 5.0000e-04\n",
            "Epoch 26/50\n",
            "\u001b[1m779/779\u001b[0m \u001b[32m━━━━━━━━━━━━━━━━━━━━\u001b[0m\u001b[37m\u001b[0m \u001b[1m175s\u001b[0m 224ms/step - accuracy: 0.9835 - loss: 0.0531 - val_accuracy: 0.9832 - val_loss: 0.0629 - learning_rate: 5.0000e-04\n",
            "Epoch 27/50\n",
            "\u001b[1m779/779\u001b[0m \u001b[32m━━━━━━━━━━━━━━━━━━━━\u001b[0m\u001b[37m\u001b[0m \u001b[1m202s\u001b[0m 224ms/step - accuracy: 0.9860 - loss: 0.0468 - val_accuracy: 0.9852 - val_loss: 0.0444 - learning_rate: 2.5000e-04\n",
            "Epoch 28/50\n",
            "\u001b[1m779/779\u001b[0m \u001b[32m━━━━━━━━━━━━━━━━━━━━\u001b[0m\u001b[37m\u001b[0m \u001b[1m172s\u001b[0m 221ms/step - accuracy: 0.9888 - loss: 0.0393 - val_accuracy: 0.9849 - val_loss: 0.0453 - learning_rate: 2.5000e-04\n",
            "Epoch 29/50\n",
            "\u001b[1m779/779\u001b[0m \u001b[32m━━━━━━━━━━━━━━━━━━━━\u001b[0m\u001b[37m\u001b[0m \u001b[1m173s\u001b[0m 222ms/step - accuracy: 0.9874 - loss: 0.0412 - val_accuracy: 0.9867 - val_loss: 0.0395 - learning_rate: 2.5000e-04\n",
            "Epoch 30/50\n",
            "\u001b[1m779/779\u001b[0m \u001b[32m━━━━━━━━━━━━━━━━━━━━\u001b[0m\u001b[37m\u001b[0m \u001b[1m200s\u001b[0m 220ms/step - accuracy: 0.9884 - loss: 0.0389 - val_accuracy: 0.9872 - val_loss: 0.0387 - learning_rate: 2.5000e-04\n",
            "Epoch 31/50\n",
            "\u001b[1m779/779\u001b[0m \u001b[32m━━━━━━━━━━━━━━━━━━━━\u001b[0m\u001b[37m\u001b[0m \u001b[1m174s\u001b[0m 223ms/step - accuracy: 0.9880 - loss: 0.0376 - val_accuracy: 0.9881 - val_loss: 0.0359 - learning_rate: 2.5000e-04\n",
            "Epoch 32/50\n",
            "\u001b[1m779/779\u001b[0m \u001b[32m━━━━━━━━━━━━━━━━━━━━\u001b[0m\u001b[37m\u001b[0m \u001b[1m200s\u001b[0m 220ms/step - accuracy: 0.9894 - loss: 0.0354 - val_accuracy: 0.9884 - val_loss: 0.0379 - learning_rate: 2.5000e-04\n",
            "Epoch 33/50\n",
            "\u001b[1m779/779\u001b[0m \u001b[32m━━━━━━━━━━━━━━━━━━━━\u001b[0m\u001b[37m\u001b[0m \u001b[1m207s\u001b[0m 226ms/step - accuracy: 0.9887 - loss: 0.0362 - val_accuracy: 0.9886 - val_loss: 0.0344 - learning_rate: 2.5000e-04\n",
            "Epoch 34/50\n",
            "\u001b[1m779/779\u001b[0m \u001b[32m━━━━━━━━━━━━━━━━━━━━\u001b[0m\u001b[37m\u001b[0m \u001b[1m199s\u001b[0m 222ms/step - accuracy: 0.9914 - loss: 0.0308 - val_accuracy: 0.9876 - val_loss: 0.0348 - learning_rate: 2.5000e-04\n",
            "Epoch 35/50\n",
            "\u001b[1m779/779\u001b[0m \u001b[32m━━━━━━━━━━━━━━━━━━━━\u001b[0m\u001b[37m\u001b[0m \u001b[1m176s\u001b[0m 226ms/step - accuracy: 0.9896 - loss: 0.0361 - val_accuracy: 0.9876 - val_loss: 0.0384 - learning_rate: 2.5000e-04\n",
            "Epoch 36/50\n",
            "\u001b[1m779/779\u001b[0m \u001b[32m━━━━━━━━━━━━━━━━━━━━\u001b[0m\u001b[37m\u001b[0m \u001b[1m200s\u001b[0m 224ms/step - accuracy: 0.9908 - loss: 0.0306 - val_accuracy: 0.9902 - val_loss: 0.0340 - learning_rate: 2.5000e-04\n",
            "Epoch 37/50\n",
            "\u001b[1m779/779\u001b[0m \u001b[32m━━━━━━━━━━━━━━━━━━━━\u001b[0m\u001b[37m\u001b[0m \u001b[1m206s\u001b[0m 229ms/step - accuracy: 0.9914 - loss: 0.0292 - val_accuracy: 0.9899 - val_loss: 0.0354 - learning_rate: 2.5000e-04\n",
            "Epoch 38/50\n",
            "\u001b[1m779/779\u001b[0m \u001b[32m━━━━━━━━━━━━━━━━━━━━\u001b[0m\u001b[37m\u001b[0m \u001b[1m196s\u001b[0m 221ms/step - accuracy: 0.9910 - loss: 0.0305 - val_accuracy: 0.9888 - val_loss: 0.0344 - learning_rate: 2.5000e-04\n",
            "Epoch 39/50\n",
            "\u001b[1m779/779\u001b[0m \u001b[32m━━━━━━━━━━━━━━━━━━━━\u001b[0m\u001b[37m\u001b[0m \u001b[1m174s\u001b[0m 223ms/step - accuracy: 0.9914 - loss: 0.0289 - val_accuracy: 0.9880 - val_loss: 0.0378 - learning_rate: 2.5000e-04\n",
            "Epoch 40/50\n",
            "\u001b[1m779/779\u001b[0m \u001b[32m━━━━━━━━━━━━━━━━━━━━\u001b[0m\u001b[37m\u001b[0m \u001b[1m205s\u001b[0m 228ms/step - accuracy: 0.9907 - loss: 0.0308 - val_accuracy: 0.9912 - val_loss: 0.0296 - learning_rate: 2.5000e-04\n",
            "Epoch 41/50\n",
            "\u001b[1m779/779\u001b[0m \u001b[32m━━━━━━━━━━━━━━━━━━━━\u001b[0m\u001b[37m\u001b[0m \u001b[1m201s\u001b[0m 226ms/step - accuracy: 0.9914 - loss: 0.0296 - val_accuracy: 0.9892 - val_loss: 0.0283 - learning_rate: 2.5000e-04\n",
            "Epoch 42/50\n",
            "\u001b[1m779/779\u001b[0m \u001b[32m━━━━━━━━━━━━━━━━━━━━\u001b[0m\u001b[37m\u001b[0m \u001b[1m174s\u001b[0m 224ms/step - accuracy: 0.9920 - loss: 0.0297 - val_accuracy: 0.9904 - val_loss: 0.0285 - learning_rate: 2.5000e-04\n",
            "Epoch 43/50\n",
            "\u001b[1m779/779\u001b[0m \u001b[32m━━━━━━━━━━━━━━━━━━━━\u001b[0m\u001b[37m\u001b[0m \u001b[1m203s\u001b[0m 225ms/step - accuracy: 0.9916 - loss: 0.0281 - val_accuracy: 0.9901 - val_loss: 0.0287 - learning_rate: 2.5000e-04\n",
            "Epoch 44/50\n",
            "\u001b[1m779/779\u001b[0m \u001b[32m━━━━━━━━━━━━━━━━━━━━\u001b[0m\u001b[37m\u001b[0m \u001b[1m175s\u001b[0m 225ms/step - accuracy: 0.9916 - loss: 0.0294 - val_accuracy: 0.9896 - val_loss: 0.0302 - learning_rate: 2.5000e-04\n",
            "Epoch 45/50\n",
            "\u001b[1m779/779\u001b[0m \u001b[32m━━━━━━━━━━━━━━━━━━━━\u001b[0m\u001b[37m\u001b[0m \u001b[1m201s\u001b[0m 224ms/step - accuracy: 0.9929 - loss: 0.0223 - val_accuracy: 0.9905 - val_loss: 0.0316 - learning_rate: 2.5000e-04\n",
            "Epoch 46/50\n",
            "\u001b[1m779/779\u001b[0m \u001b[32m━━━━━━━━━━━━━━━━━━━━\u001b[0m\u001b[37m\u001b[0m \u001b[1m173s\u001b[0m 222ms/step - accuracy: 0.9915 - loss: 0.0277 - val_accuracy: 0.9894 - val_loss: 0.0313 - learning_rate: 2.5000e-04\n",
            "Epoch 47/50\n",
            "\u001b[1m779/779\u001b[0m \u001b[32m━━━━━━━━━━━━━━━━━━━━\u001b[0m\u001b[37m\u001b[0m \u001b[1m201s\u001b[0m 221ms/step - accuracy: 0.9928 - loss: 0.0221 - val_accuracy: 0.9904 - val_loss: 0.0298 - learning_rate: 1.2500e-04\n",
            "Epoch 48/50\n",
            "\u001b[1m779/779\u001b[0m \u001b[32m━━━━━━━━━━━━━━━━━━━━\u001b[0m\u001b[37m\u001b[0m \u001b[1m176s\u001b[0m 227ms/step - accuracy: 0.9925 - loss: 0.0235 - val_accuracy: 0.9909 - val_loss: 0.0273 - learning_rate: 1.2500e-04\n",
            "Epoch 49/50\n",
            "\u001b[1m779/779\u001b[0m \u001b[32m━━━━━━━━━━━━━━━━━━━━\u001b[0m\u001b[37m\u001b[0m \u001b[1m176s\u001b[0m 226ms/step - accuracy: 0.9939 - loss: 0.0216 - val_accuracy: 0.9910 - val_loss: 0.0263 - learning_rate: 1.2500e-04\n",
            "Epoch 50/50\n",
            "\u001b[1m779/779\u001b[0m \u001b[32m━━━━━━━━━━━━━━━━━━━━\u001b[0m\u001b[37m\u001b[0m \u001b[1m198s\u001b[0m 221ms/step - accuracy: 0.9931 - loss: 0.0214 - val_accuracy: 0.9913 - val_loss: 0.0267 - learning_rate: 1.2500e-04\n"
          ]
        }
      ],
      "source": [
        "# 10. Train\n",
        "history = model.fit(\n",
        "    X_tr, y_tr_oh,\n",
        "    validation_data=(X_val, y_val_oh),\n",
        "    epochs=50,\n",
        "    batch_size=32,\n",
        "    callbacks=[early, rlr],\n",
        "    verbose=1\n",
        ")\n"
      ]
    },
    {
      "cell_type": "code",
      "source": [
        "# 11. Evaluate\n",
        "y_pred_prob = model.predict(X_test, batch_size=32)\n",
        "y_pred = y_pred_prob.argmax(axis=1)\n",
        "\n",
        "print(\"\\nClassification Report (Test):\")\n",
        "print(classification_report(y_test.flatten(), y_pred, target_names=le.classes_))\n",
        "\n",
        "cm = confusion_matrix(y_test.flatten(), y_pred)\n",
        "plt.figure(figsize=(8,6))\n",
        "sns.heatmap(cm, annot=True, fmt=\"d\", cmap=\"Blues\",\n",
        "            xticklabels=le.classes_, yticklabels=le.classes_)\n",
        "plt.xlabel(\"Predicted\")\n",
        "plt.ylabel(\"Actual\")\n",
        "plt.title(\"Confusion Matrix (Test)\")\n",
        "plt.tight_layout()\n",
        "plt.show()"
      ],
      "metadata": {
        "colab": {
          "base_uri": "https://localhost:8080/",
          "height": 901
        },
        "id": "6n78M5O6FRIs",
        "outputId": "cf2d9599-40ca-436d-b92b-25aa8a058cc3"
      },
      "execution_count": null,
      "outputs": [
        {
          "output_type": "stream",
          "name": "stdout",
          "text": [
            "\u001b[1m742/742\u001b[0m \u001b[32m━━━━━━━━━━━━━━━━━━━━\u001b[0m\u001b[37m\u001b[0m \u001b[1m52s\u001b[0m 70ms/step\n",
            "\n",
            "Classification Report (Test):\n",
            "              precision    recall  f1-score   support\n",
            "\n",
            "  Downstairs       0.69      0.66      0.67      2444\n",
            "     Jogging       0.90      0.97      0.93      7512\n",
            "     Sitting       0.94      0.83      0.88      1122\n",
            "    Standing       0.88      0.80      0.84      1064\n",
            "    Upstairs       0.64      0.74      0.69      2844\n",
            "     Walking       0.91      0.84      0.87      8755\n",
            "\n",
            "    accuracy                           0.85     23741\n",
            "   macro avg       0.83      0.81      0.82     23741\n",
            "weighted avg       0.85      0.85      0.85     23741\n",
            "\n"
          ]
        },
        {
          "output_type": "display_data",
          "data": {
            "text/plain": [
              "<Figure size 800x600 with 2 Axes>"
            ],
            "image/png": "[encoded data removed]"
          },
          "metadata": {}
        }
      ]
    }
  ],
  "metadata": {
    "colab": {
      "provenance": [],
      "mount_file_id": "1XKnc7tQC7caq2lqyyrmE_Qzt8yzmF_wF",
      "authorship_tag": "ABX9TyNE97Ttuh8wzPxhewEy6SNF",
      "include_colab_link": true
    },
    "kernelspec": {
      "display_name": "Python 3",
      "name": "python3"
    },
    "language_info": {
      "name": "python"
    }
  },
  "nbformat": 4,
  "nbformat_minor": 0
}
